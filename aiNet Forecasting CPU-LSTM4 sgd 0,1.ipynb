{
 "cells": [
  {
   "cell_type": "markdown",
   "metadata": {},
   "source": [
    "## Time series \n",
    "**adds an explicit order dependence between observations: a time dimension**\n",
    "\n",
    "**Time dimension is both a constraint and a structure that provides a source of additional information**\n",
    "\n",
    "**A time series is a sequence of observations taken sequentially in time**\n",
    "\n",
    "***(ref. Time Series Analysis: Forecasting and Control (Wiley Series in Probability and Statistics))***\n",
    "\n",
    "**Making predictions about the future is called extrapolation in the classical statistical handling of time series data**\n",
    "**More modern fields focus on the topic and refer to it as time series forecasting. Forecasting involves taking models fit on historical data and using them to predict future observations**\n",
    "\n",
    "Descriptive models can borrow for the future (i.e. to smooth or remove noise), they only seek to best describe the data. An important distinction in forecasting is that the future is completely unavailable and must only be estimated from what has already happened.\n",
    "\n",
    "With timeseries we can work on data description or analysis and or on prediction. \n",
    "\n",
    "**In descriptive modeling, or time series analysis, a time series is modeled to determine its components in terms of seasonal patterns, trends, relation to external factors, and the like. In contrast, time series forecasting uses the information in a time series (perhaps with additional information) to forecast future values of that series**\n",
    "\n",
    "***(ref. Practical Time Series Forecasting with R: A Hands-On Guide [2nd Edition] (Practical Analytics)***\n",
    "\n",
    "## multi-step time series forecasting: strategies\n",
    "\n",
    "### seperate models\n",
    "prediction(t) = model1(obs(t-1), obs(t-2), ..., obs(t-n))\n",
    "prediction(t+1) = model2(obs(t),obs(t-1),obs(t-2),obs(t-3), ..., obs(t-n))\n",
    "\n",
    "\n",
    "### recursive models \n",
    "prediction(t+1) = model(obs(t),obs(t-1), obs(t-2), ..., obs(t-n))\n",
    "prediction(t+2) = model(prediction(t+1),obs(t),obs(t-1), ..., obs(t-n))\n",
    "\n",
    "### Direct-Recursive Hybrid Strategies\n",
    "prediction(t+1) = model1(obs(t),obs(t-1), obs(t-2), ..., obs(t-n))\n",
    "prediction(t+2) = model2(prediction(t+1), obs(t), obs(t-1), ..., obs(t-n))\n",
    "\n",
    "### Multiple output\n",
    "prediction(t+1), prediction(t+2) = model(obs(t),obs(t-1), obs(t-2), ..., obs(t-n))\n",
    "\n",
    "## Regression problem\n",
    "\n",
    "**The forecasting problem is framed as a a regression problem, regression means that the output of model is a continus value. i.e. the goal is to predict the values of each time series in the moment t, by using the values of the previous moment (t-n, t-n+1, t-n+2, ...t-1)**\n",
    "\n",
    "## univariate\n",
    "\n",
    "If only one time series is used in the algorithm, it is called univariate forecasting\n",
    "\n",
    "## multivariate\n",
    "\n",
    "If multiple time series are used in the algorithm, it's called multivariate forecasting"
   ]
  },
  {
   "cell_type": "code",
   "execution_count": 98,
   "metadata": {},
   "outputs": [],
   "source": [
    "# univariate data preparation\n",
    "from numpy import array \n",
    "import numpy as np\n",
    "\n",
    "import pandas as pd \n",
    "\n",
    "%matplotlib inline\n",
    "import matplotlib.pyplot as plt\n",
    "from matplotlib import pyplot\n",
    "\n",
    "# Model packages\n",
    "from keras.models import Sequential\n",
    "from keras.layers import LSTM\n",
    "from keras.layers import Dense\n",
    "from keras import optimizers\n",
    "from keras.utils.vis_utils import plot_model\n"
   ]
  },
  {
   "cell_type": "code",
   "execution_count": 99,
   "metadata": {},
   "outputs": [],
   "source": [
    "# split a univariate sequence into samples\n",
    "def split_sequence(sequence, n_steps):\n",
    "    X, y = list(), list()\n",
    "    for i in range(len(sequence)):\n",
    "# find the end of this pattern\n",
    "        end_ix = i + n_steps\n",
    "# check if we are beyond the sequence\n",
    "        if end_ix > len(sequence)-1:\n",
    "            break\n",
    "# gather input and output parts of the pattern\n",
    "        seq_x, seq_y = sequence[i:end_ix], sequence[end_ix]\n",
    "        X.append(seq_x)\n",
    "        y.append(seq_y)\n",
    "    return array(X), array(y)"
   ]
  },
  {
   "cell_type": "code",
   "execution_count": 100,
   "metadata": {},
   "outputs": [],
   "source": [
    "def scale(train, test):\n",
    "# fit scaler\n",
    "    scaler = MinMaxScaler(feature_range=(-1, 1))\n",
    "    scaler = scaler.fit(train)\n",
    "# transform train\n",
    "    train = train.reshape(train.shape[0], train.shape[1])\n",
    "    train_scaled = scaler.transform(train)\n",
    "# transform test\n",
    "    test = test.reshape(test.shape[0], test.shape[1])\n",
    "    test_scaled = scaler.transform(test)\n",
    "    return scaler, train_scaled, test_scaled"
   ]
  },
  {
   "cell_type": "code",
   "execution_count": 101,
   "metadata": {},
   "outputs": [],
   "source": [
    "# inverse scaling for a forecasted value. here the scaler.inverse_transform is used directly\n",
    "def invert_scale(scaler, X, value):\n",
    "    new_row = [x for x in X] + [value]\n",
    "    array = np.array(new_row)\n",
    "    array = array.reshape(1, len(array))\n",
    "    inverted = scaler.inverse_transform(array)\n",
    "    return inverted[0, -1]"
   ]
  },
  {
   "cell_type": "code",
   "execution_count": 102,
   "metadata": {
    "scrolled": false
   },
   "outputs": [
    {
     "data": {
      "text/html": [
       "<div>\n",
       "<style scoped>\n",
       "    .dataframe tbody tr th:only-of-type {\n",
       "        vertical-align: middle;\n",
       "    }\n",
       "\n",
       "    .dataframe tbody tr th {\n",
       "        vertical-align: top;\n",
       "    }\n",
       "\n",
       "    .dataframe thead th {\n",
       "        text-align: right;\n",
       "    }\n",
       "</style>\n",
       "<table border=\"1\" class=\"dataframe\">\n",
       "  <thead>\n",
       "    <tr style=\"text-align: right;\">\n",
       "      <th></th>\n",
       "      <th>cpu.percent</th>\n",
       "    </tr>\n",
       "    <tr>\n",
       "      <th>time</th>\n",
       "      <th></th>\n",
       "    </tr>\n",
       "  </thead>\n",
       "  <tbody>\n",
       "    <tr>\n",
       "      <th>2018-11-21 00:00:30</th>\n",
       "      <td>4.1</td>\n",
       "    </tr>\n",
       "    <tr>\n",
       "      <th>2018-11-21 00:01:00</th>\n",
       "      <td>4.5</td>\n",
       "    </tr>\n",
       "    <tr>\n",
       "      <th>2018-11-21 00:01:30</th>\n",
       "      <td>4.3</td>\n",
       "    </tr>\n",
       "    <tr>\n",
       "      <th>2018-11-21 00:02:00</th>\n",
       "      <td>4.4</td>\n",
       "    </tr>\n",
       "    <tr>\n",
       "      <th>2018-11-21 00:02:30</th>\n",
       "      <td>4.0</td>\n",
       "    </tr>\n",
       "  </tbody>\n",
       "</table>\n",
       "</div>"
      ],
      "text/plain": [
       "                     cpu.percent\n",
       "time                            \n",
       "2018-11-21 00:00:30          4.1\n",
       "2018-11-21 00:01:00          4.5\n",
       "2018-11-21 00:01:30          4.3\n",
       "2018-11-21 00:02:00          4.4\n",
       "2018-11-21 00:02:30          4.0"
      ]
     },
     "execution_count": 102,
     "metadata": {},
     "output_type": "execute_result"
    }
   ],
   "source": [
    "# plot\n",
    "series = pd.read_csv('Daily_TSNew_i-001683a6-rp-static-server-15197471722.csv',index_col=[0])\n",
    "series.shape\n",
    "series.head()"
   ]
  },
  {
   "cell_type": "code",
   "execution_count": 103,
   "metadata": {},
   "outputs": [
    {
     "data": {
      "text/html": [
       "<div>\n",
       "<style scoped>\n",
       "    .dataframe tbody tr th:only-of-type {\n",
       "        vertical-align: middle;\n",
       "    }\n",
       "\n",
       "    .dataframe tbody tr th {\n",
       "        vertical-align: top;\n",
       "    }\n",
       "\n",
       "    .dataframe thead th {\n",
       "        text-align: right;\n",
       "    }\n",
       "</style>\n",
       "<table border=\"1\" class=\"dataframe\">\n",
       "  <thead>\n",
       "    <tr style=\"text-align: right;\">\n",
       "      <th></th>\n",
       "      <th>cpu.percent</th>\n",
       "    </tr>\n",
       "    <tr>\n",
       "      <th>time</th>\n",
       "      <th></th>\n",
       "    </tr>\n",
       "  </thead>\n",
       "  <tbody>\n",
       "    <tr>\n",
       "      <th>2018-11-21 00:00:30</th>\n",
       "      <td>4.1</td>\n",
       "    </tr>\n",
       "    <tr>\n",
       "      <th>2018-11-21 00:01:00</th>\n",
       "      <td>4.5</td>\n",
       "    </tr>\n",
       "    <tr>\n",
       "      <th>2018-11-21 00:01:30</th>\n",
       "      <td>4.3</td>\n",
       "    </tr>\n",
       "    <tr>\n",
       "      <th>2018-11-21 00:02:00</th>\n",
       "      <td>4.4</td>\n",
       "    </tr>\n",
       "    <tr>\n",
       "      <th>2018-11-21 00:02:30</th>\n",
       "      <td>4.0</td>\n",
       "    </tr>\n",
       "  </tbody>\n",
       "</table>\n",
       "</div>"
      ],
      "text/plain": [
       "                     cpu.percent\n",
       "time                            \n",
       "2018-11-21 00:00:30          4.1\n",
       "2018-11-21 00:01:00          4.5\n",
       "2018-11-21 00:01:30          4.3\n",
       "2018-11-21 00:02:00          4.4\n",
       "2018-11-21 00:02:30          4.0"
      ]
     },
     "execution_count": 103,
     "metadata": {},
     "output_type": "execute_result"
    }
   ],
   "source": [
    "if 'time' in series.columns:\n",
    "   # Cast the data type    \n",
    "    series['time'] = series['time'].apply(pd.to_datetime)\n",
    "    series.set_index('time',inplace=True)\n",
    "series.head()"
   ]
  },
  {
   "cell_type": "code",
   "execution_count": 104,
   "metadata": {},
   "outputs": [
    {
     "data": {
      "text/plain": [
       "<matplotlib.legend.Legend at 0x7f2408353a58>"
      ]
     },
     "execution_count": 104,
     "metadata": {},
     "output_type": "execute_result"
    },
    {
     "data": {
      "image/png": "[encoded data removed]",
      "text/plain": [
       "<Figure size 720x216 with 1 Axes>"
      ]
     },
     "metadata": {},
     "output_type": "display_data"
    }
   ],
   "source": [
    "fig = plt.figure(figsize=(10,3))\n",
    "plt.plot(series[:5], label=\"series\")\n",
    "plt.title('Plot of CPU from 2018-11-21 00:00:30 to 2018-11-21 00:02:30')\n",
    "#plt.plot(series.values, label=\"series\")\n",
    "plt.legend(loc=0)"
   ]
  },
  {
   "cell_type": "code",
   "execution_count": 105,
   "metadata": {},
   "outputs": [
    {
     "data": {
      "text/plain": [
       "<matplotlib.legend.Legend at 0x7f24080daa90>"
      ]
     },
     "execution_count": 105,
     "metadata": {},
     "output_type": "execute_result"
    },
    {
     "data": {
      "image/png": "[encoded data removed]",
      "text/plain": [
       "<Figure size 720x216 with 1 Axes>"
      ]
     },
     "metadata": {},
     "output_type": "display_data"
    }
   ],
   "source": [
    "fig = plt.figure(figsize=(10,3))\n",
    "#plt.plot(series[:100], label=\"series\")\n",
    "plt.title('9 days samples, Plot of CPU from 2018-11-21 00:00:30 to 2018-11-29 23:59:30')\n",
    "plt.plot(series.values, label=\"series\")\n",
    "plt.legend(loc=0)"
   ]
  },
  {
   "cell_type": "code",
   "execution_count": 106,
   "metadata": {},
   "outputs": [
    {
     "data": {
      "text/plain": [
       "(25911, 1)"
      ]
     },
     "execution_count": 106,
     "metadata": {},
     "output_type": "execute_result"
    }
   ],
   "source": [
    "series = series.values\n",
    "series.shape"
   ]
  },
  {
   "cell_type": "code",
   "execution_count": 107,
   "metadata": {},
   "outputs": [
    {
     "data": {
      "text/plain": [
       "((17360, 1), (8551, 1))"
      ]
     },
     "execution_count": 107,
     "metadata": {},
     "output_type": "execute_result"
    }
   ],
   "source": [
    "from sklearn.preprocessing import MinMaxScaler\n",
    "# split into train and test sets\n",
    "train_size = int(len(series) * 0.67)\n",
    "train, test = series[0:train_size,:], series[train_size:len(series),:]\n",
    "train.shape, test.shape"
   ]
  },
  {
   "cell_type": "code",
   "execution_count": 108,
   "metadata": {},
   "outputs": [],
   "source": [
    "# scale data between -1 and 1 \n",
    "scaler, train_scaled, test_scaled = scale(train, test)\n",
    "train_scaled, test_scaled\n",
    "train = train_scaled\n",
    "test = test_scaled"
   ]
  },
  {
   "cell_type": "code",
   "execution_count": 109,
   "metadata": {},
   "outputs": [
    {
     "data": {
      "text/plain": [
       "array([[-0.99583767],\n",
       "       [-0.98751301],\n",
       "       [-0.99167534],\n",
       "       ...,\n",
       "       [-0.98126951],\n",
       "       [-0.98335068],\n",
       "       [-0.97710718]])"
      ]
     },
     "execution_count": 109,
     "metadata": {},
     "output_type": "execute_result"
    }
   ],
   "source": [
    "train"
   ]
  },
  {
   "cell_type": "code",
   "execution_count": 110,
   "metadata": {},
   "outputs": [
    {
     "data": {
      "text/plain": [
       "array([[-0.97294485],\n",
       "       [-0.98335068],\n",
       "       [-0.97710718],\n",
       "       ...,\n",
       "       [-1.0603538 ],\n",
       "       [-1.05619147],\n",
       "       [-1.0603538 ]])"
      ]
     },
     "execution_count": 110,
     "metadata": {},
     "output_type": "execute_result"
    }
   ],
   "source": [
    "test"
   ]
  },
  {
   "cell_type": "code",
   "execution_count": 111,
   "metadata": {},
   "outputs": [
    {
     "data": {
      "text/plain": [
       "((17357, 3, 1), (8548, 3, 1))"
      ]
     },
     "execution_count": 111,
     "metadata": {},
     "output_type": "execute_result"
    }
   ],
   "source": [
    "# here we construct the supervised-problem table\n",
    "lag= 3\n",
    "\n",
    "#create training table for forecasting\n",
    "trainseriesX, trainseriesy = split_sequence(train, lag)\n",
    "\n",
    "#create testseriesX and testseriesy\n",
    "testseriesX, testseriesy = split_sequence(test, lag)\n",
    "\n",
    "trainseriesX.shape, testseriesX.shape"
   ]
  },
  {
   "cell_type": "markdown",
   "metadata": {},
   "source": [
    "For a mean squared error regression problem\n",
    "model.compile(optimizer='rmsprop',\n",
    "              loss='mse')\n"
   ]
  },
  {
   "cell_type": "code",
   "execution_count": 114,
   "metadata": {},
   "outputs": [
    {
     "name": "stdout",
     "output_type": "stream",
     "text": [
      "_________________________________________________________________\n",
      "Layer (type)                 Output Shape              Param #   \n",
      "=================================================================\n",
      "lstm_6 (LSTM)                (None, 4)                 96        \n",
      "_________________________________________________________________\n",
      "dense_6 (Dense)              (None, 1)                 5         \n",
      "=================================================================\n",
      "Total params: 101\n",
      "Trainable params: 101\n",
      "Non-trainable params: 0\n",
      "_________________________________________________________________\n"
     ]
    }
   ],
   "source": [
    "# to always shape the data as [samples, timesteps, features]\n",
    "# reshape from [samples, timesteps] into [samples, timesteps, features]\n",
    "\n",
    "n_features = 1\n",
    "\n",
    "#seriesX = seriesX.reshape((seriesX.shape[0], seriesX.shape[1], n_features))\n",
    "trainseriesX = trainseriesX.reshape((trainseriesX.shape[0], trainseriesX.shape[1], n_features))\n",
    "# scenario1 config\n",
    "\n",
    "model = Sequential()\n",
    "model.add(LSTM(4, activation='relu', input_shape=(lag, n_features)))\n",
    "model.add(Dense(1))\n",
    "sgd = optimizers.SGD(lr=0.1, decay=1e-6, momentum=0.9, nesterov=True)\n",
    "model.compile(loss='mse', optimizer='sgd', metrics=['mse'])\n",
    "model.summary()\n",
    "plot_model(model, to_file='usecase2.png', show_shapes=True, show_layer_names=True)"
   ]
  },
  {
   "cell_type": "code",
   "execution_count": 3,
   "metadata": {},
   "outputs": [
    {
     "name": "stderr",
     "output_type": "stream",
     "text": [
      "/home/qzhq7441/code/sckit-learn/hands-on-ml/venv/lib/python3.6/site-packages/h5py/__init__.py:36: FutureWarning: Conversion of the second argument of issubdtype from `float` to `np.floating` is deprecated. In future, it will be treated as `np.float64 == np.dtype(float).type`.\n",
      "  from ._conv import register_converters as _register_converters\n",
      "Using TensorFlow backend.\n"
     ]
    }
   ],
   "source": [
    "from keras.callbacks import EarlyStopping\n",
    "early_stopping = EarlyStopping?"
   ]
  },
  {
   "cell_type": "code",
   "execution_count": 115,
   "metadata": {
    "scrolled": false
   },
   "outputs": [
    {
     "name": "stdout",
     "output_type": "stream",
     "text": [
      "1) Train RMSE: 0.044\n",
      "2) Train RMSE: 0.043\n",
      "3) Train RMSE: 0.042\n",
      "4) Train RMSE: 0.041\n",
      "5) Train RMSE: 0.040\n",
      "6) Train RMSE: 0.039\n",
      "7) Train RMSE: 0.038\n",
      "8) Train RMSE: 0.038\n",
      "9) Train RMSE: 0.038\n",
      "10) Train RMSE: 0.037\n",
      "11) Train RMSE: 0.037\n",
      "12) Train RMSE: 0.037\n",
      "13) Train RMSE: 0.037\n",
      "14) Train RMSE: 0.037\n",
      "15) Train RMSE: 0.037\n",
      "16) Train RMSE: 0.036\n",
      "17) Train RMSE: 0.036\n",
      "18) Train RMSE: 0.036\n",
      "19) Train RMSE: 0.036\n",
      "20) Train RMSE: 0.036\n",
      "21) Train RMSE: 0.036\n",
      "22) Train RMSE: 0.036\n",
      "23) Train RMSE: 0.036\n",
      "24) Train RMSE: 0.036\n",
      "25) Train RMSE: 0.036\n",
      "26) Train RMSE: 0.036\n",
      "27) Train RMSE: 0.036\n",
      "28) Train RMSE: 0.036\n",
      "29) Train RMSE: 0.036\n",
      "30) Train RMSE: 0.036\n"
     ]
    }
   ],
   "source": [
    "from math import sqrt\n",
    "import math\n",
    "from sklearn.metrics import mean_squared_error\n",
    "\n",
    "#demonstrate prediction, the rule is to have the test as testseriesX = testseriesX.reshape(1, n_steps, n_features)\n",
    "#testseriesX = testseriesX.reshape((testseriesX.shape[0], testseriesX.shape[1], n_features))\n",
    "#in general the input should be as x_input = x_input.reshape((1, n_steps, n_features))\n",
    "\n",
    "repeats = 30\n",
    "error_trainscores = list()\n",
    "\n",
    "for r in range(repeats):\n",
    "    # fit model\n",
    "    from keras.callbacks import EarlyStopping\n",
    "    early_stopping = EarlyStopping(monitor='loss', mode='min', patience=50)\n",
    "    \n",
    "    #starting the training on trainseriesX with known trainseriesy\n",
    "    history = model.fit(trainseriesX, trainseriesy, epochs=100, batch_size=40,callbacks=[early_stopping],verbose=0)\n",
    "    #history = model.fit(trainseriesX, trainseriesy, epochs=10, verbose=0)\n",
    "    \n",
    "    #perform the prediction on the train\n",
    "    trainPredict = model.predict(trainseriesX, batch_size=40, verbose =0)\n",
    "    # calculate root mean squared error for train and test \n",
    "    trainScore = math.sqrt(mean_squared_error(trainseriesy, trainPredict))\n",
    "    #report performance for train\n",
    "    print('%d) Train RMSE: %.3f' % (r+1, trainScore))\n",
    "    error_trainscores.append(trainScore)"
   ]
  },
  {
   "cell_type": "code",
   "execution_count": 118,
   "metadata": {},
   "outputs": [
    {
     "data": {
      "text/plain": [
       "[<matplotlib.lines.Line2D at 0x7f23fe34e400>]"
      ]
     },
     "execution_count": 118,
     "metadata": {},
     "output_type": "execute_result"
    },
    {
     "data": {
      "image/png": "[encoded data removed]",
      "text/plain": [
       "<Figure size 432x288 with 1 Axes>"
      ]
     },
     "metadata": {},
     "output_type": "display_data"
    }
   ],
   "source": [
    "import matplotlib.pyplot as plt\n",
    "\n",
    "fig, ax = plt.subplots()\n",
    "ax.plot(trainPredict[100:120], color='red', label='Predictedtrain', marker='o',linewidth=2,markersize=5)\n",
    "ax.plot(trainseriesy[100:120], color='green', label='trueTrain', marker='o',linewidth=2,markersize=5)\n",
    "\n",
    "\n",
    "#plt.plot(np.squeeze(cnn_trueValue_net)[:30] , color='red',label='True',marker='o',linewidth=2,markersize=5)\n"
   ]
  },
  {
   "cell_type": "code",
   "execution_count": 119,
   "metadata": {},
   "outputs": [
    {
     "data": {
      "text/plain": [
       "{'batch_size': 40,\n",
       " 'do_validation': False,\n",
       " 'epochs': 100,\n",
       " 'metrics': ['loss', 'mean_squared_error'],\n",
       " 'samples': 17357,\n",
       " 'steps': None,\n",
       " 'verbose': 0}"
      ]
     },
     "execution_count": 119,
     "metadata": {},
     "output_type": "execute_result"
    }
   ],
   "source": [
    "history.params"
   ]
  },
  {
   "cell_type": "code",
   "execution_count": 120,
   "metadata": {},
   "outputs": [
    {
     "name": "stdout",
     "output_type": "stream",
     "text": [
      "0.045126267081727144\n"
     ]
    }
   ],
   "source": [
    "testPredict= model.predict(testseriesX, batch_size=40, verbose =0)\n",
    "# calculate root mean squared error for train and test \n",
    "testScore = math.sqrt(mean_squared_error(testseriesy,testPredict))\n",
    "#report performance for train\n",
    "print(testScore)"
   ]
  },
  {
   "cell_type": "code",
   "execution_count": 121,
   "metadata": {},
   "outputs": [
    {
     "data": {
      "text/plain": [
       "[<matplotlib.lines.Line2D at 0x7f23fe334080>]"
      ]
     },
     "execution_count": 121,
     "metadata": {},
     "output_type": "execute_result"
    },
    {
     "data": {
      "image/png": "[encoded data removed]",
      "text/plain": [
       "<Figure size 432x288 with 1 Axes>"
      ]
     },
     "metadata": {},
     "output_type": "display_data"
    }
   ],
   "source": [
    "import matplotlib.pyplot as plt\n",
    "\n",
    "fig, ax = plt.subplots()\n",
    "ax.plot(testPredict[100:120], color='red', label='Predictedtrain', marker='o',linewidth=2,markersize=5)\n",
    "ax.plot(testseriesy[100:120], color='green', label='trueTrain', marker='o',linewidth=2,markersize=5)"
   ]
  },
  {
   "cell_type": "code",
   "execution_count": 122,
   "metadata": {},
   "outputs": [
    {
     "data": {
      "text/plain": [
       "[<matplotlib.lines.Line2D at 0x7f23fe283a58>]"
      ]
     },
     "execution_count": 122,
     "metadata": {},
     "output_type": "execute_result"
    },
    {
     "data": {
      "image/png": "[encoded data removed]",
      "text/plain": [
       "<Figure size 432x288 with 1 Axes>"
      ]
     },
     "metadata": {},
     "output_type": "display_data"
    }
   ],
   "source": [
    "import matplotlib.pyplot as plt\n",
    "fig, ax = plt.subplots()\n",
    "ax.plot(testPredict[:50])\n",
    "ax.plot(testseriesy[:50])"
   ]
  },
  {
   "cell_type": "code",
   "execution_count": 123,
   "metadata": {},
   "outputs": [
    {
     "name": "stdout",
     "output_type": "stream",
     "text": [
      "['loss', 'mean_squared_error']\n",
      "8548/8548 [==============================] - 0s 28us/step\n",
      "17357/17357 [==============================] - 0s 14us/step\n"
     ]
    },
    {
     "data": {
      "text/plain": [
       "([0.0020363800221906325, 0.0020363800221906325],\n",
       " [0.0012933427877196723, 0.0012933427877196723],\n",
       " ['loss', 'mean_squared_error'])"
      ]
     },
     "execution_count": 123,
     "metadata": {},
     "output_type": "execute_result"
    }
   ],
   "source": [
    "modelmetrics = model.metrics_names\n",
    "print (modelmetrics)\n",
    "testeval = model.evaluate(testseriesX, testseriesy, batch_size=40, steps=None)\n",
    "# this method  Scalar test loss (if the model has no metrics) or list of scalars (if the model computes other metrics).\n",
    "#the attribute `model.metrics_names` will give you the display labels for the scalar outputs.\n",
    "traineval= model.evaluate(trainseriesX, trainseriesy, batch_size=40, steps=None)\n",
    "testeval, traineval, modelmetrics"
   ]
  },
  {
   "cell_type": "markdown",
   "metadata": {},
   "source": [
    "## metrics note\n",
    "Regression is done using different loss functions from classification; \n",
    "Mean Squared Error (MSE) is a commonly used loss function for regression.\n",
    "\n",
    "Similarly, evaluation metrics to be used for regression differ from those used for classification; naturally the concept of \"accuracy\" does not apply for regression. A common regression metric is Mean Absolute Error (MAE).\n",
    "When features in the input data have values in different ranges, each feature should be scaled independently as a preprocessing step.\n",
    "When there is little data available, using K-Fold validation is a great way to reliably evaluate a model.\n",
    "When little training data is available, it is preferable to use a small network with very few hidden layers (typically only one or two), in order to avoid severe overfitting.\n",
    "\n",
    "The root mean squared error (RMSE) will be used as it punishes large errors and results in a score that is in the same units as the forecast data, \n",
    "\n",
    "dataset is not stationary.\n",
    "\n",
    "This means that there is a structure in the data that is dependent on the time. Specifically, there is an increasing trend in the data."
   ]
  },
  {
   "cell_type": "markdown",
   "metadata": {},
   "source": [
    "## LSTM Model Development\n",
    "\n",
    "The Long Short-Term Memory network (LSTM) is a type of Recurrent Neural Network (RNN).\n",
    "\n",
    "A benefit of this type of network is that it can learn and remember over long sequences and does not rely on a pre-specified window lagged observation as input.\n",
    "\n",
    "In Keras, this is referred to as stateful, and involves setting the “stateful” argument to “True” when defining an LSTM layer.\n",
    "\n",
    "By default, an LSTM layer in Keras maintains state between data within one batch. A batch of data is a fixed-sized number of rows from the training dataset that defines how many patterns to process before updating the weights of the network. State in the LSTM layer between batches is cleared by default, therefore we must make the LSTM stateful. This gives us fine-grained control over when state of the LSTM layer is cleared, by calling the reset_states() function.\n",
    "\n",
    "The LSTM layer expects input to be in a matrix with the dimensions: [samples, time steps, features].\n",
    "\n",
    "    Samples: These are independent observations from the domain, typically rows of data.\n",
    "    Time steps: These are separate time steps of a given variable for a given observation.\n",
    "    Features: These are separate measures observed at the time of observation.\n",
    "    \n"
   ]
  },
  {
   "cell_type": "code",
   "execution_count": null,
   "metadata": {},
   "outputs": [],
   "source": [
    "## statistical models are not enough because.\n",
    "\n",
    "\n",
    "    Focus on complete data: missing or corrupt data is generally unsupported.\n",
    "    Focus on linear relationships: assuming a linear relationship excludes more complex joint distributions.\n",
    "    Focus on fixed temporal dependence: the relationship between observations at different times, and in turn the number of lag observations provided as input, must be diagnosed and specified.\n",
    "    Focus on univariate data: many real-world problems have multiple input variables.\n",
    "    Focus on one-step forecasts: many real-world problems require forecasts with a long time horizon.\n"
   ]
  },
  {
   "cell_type": "markdown",
   "metadata": {},
   "source": [
    "http://mlexplained.com/2018/01/29/learning-rate-tuning-in-deep-learning-a-practical-guide/"
   ]
  }
 ],
 "metadata": {
  "kernelspec": {
   "display_name": "Python 3",
   "language": "python",
   "name": "python3"
  },
  "language_info": {
   "codemirror_mode": {
    "name": "ipython",
    "version": 3
   },
   "file_extension": ".py",
   "mimetype": "text/x-python",
   "name": "python",
   "nbconvert_exporter": "python",
   "pygments_lexer": "ipython3",
   "version": "3.6.3"
  },
  "toc": {
   "base_numbering": 1,
   "nav_menu": {},
   "number_sections": true,
   "sideBar": true,
   "skip_h1_title": false,
   "title_cell": "Table of Contents",
   "title_sidebar": "Contents",
   "toc_cell": false,
   "toc_position": {},
   "toc_section_display": true,
   "toc_window_display": false
  }
 },
 "nbformat": 4,
 "nbformat_minor": 2
}
